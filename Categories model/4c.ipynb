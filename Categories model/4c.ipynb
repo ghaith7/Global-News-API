{
 "cells": [
  {
   "cell_type": "code",
   "execution_count": 20,
   "metadata": {},
   "outputs": [],
   "source": [
    "import pandas as pd"
   ]
  },
  {
   "cell_type": "code",
   "execution_count": 41,
   "metadata": {},
   "outputs": [],
   "source": [
    "import re"
   ]
  },
  {
   "cell_type": "markdown",
   "metadata": {},
   "source": [
    "# Collect DATA"
   ]
  },
  {
   "cell_type": "markdown",
   "metadata": {},
   "source": [
    "### for politics class"
   ]
  },
  {
   "cell_type": "code",
   "execution_count": 21,
   "metadata": {},
   "outputs": [],
   "source": [
    "politics_dataset = pd.read_csv(\"reddit_politics.csv\")"
   ]
  },
  {
   "cell_type": "code",
   "execution_count": 22,
   "metadata": {},
   "outputs": [
    {
     "data": {
      "text/html": [
       "<div>\n",
       "<style scoped>\n",
       "    .dataframe tbody tr th:only-of-type {\n",
       "        vertical-align: middle;\n",
       "    }\n",
       "\n",
       "    .dataframe tbody tr th {\n",
       "        vertical-align: top;\n",
       "    }\n",
       "\n",
       "    .dataframe thead th {\n",
       "        text-align: right;\n",
       "    }\n",
       "</style>\n",
       "<table border=\"1\" class=\"dataframe\">\n",
       "  <thead>\n",
       "    <tr style=\"text-align: right;\">\n",
       "      <th></th>\n",
       "      <th>title</th>\n",
       "      <th>score</th>\n",
       "      <th>id</th>\n",
       "      <th>url</th>\n",
       "      <th>comms_num</th>\n",
       "      <th>created</th>\n",
       "      <th>body</th>\n",
       "      <th>timestamp</th>\n",
       "    </tr>\n",
       "  </thead>\n",
       "  <tbody>\n",
       "    <tr>\n",
       "      <td>0</td>\n",
       "      <td>A Right Wing Group in Texas Is Making up Fake ...</td>\n",
       "      <td>166</td>\n",
       "      <td>ov1ll3</td>\n",
       "      <td>https://www.vice.com/en/article/wx5bg5/blm-whi...</td>\n",
       "      <td>34</td>\n",
       "      <td>1.627710e+09</td>\n",
       "      <td>NaN</td>\n",
       "      <td>2021-07-31 08:35:47</td>\n",
       "    </tr>\n",
       "    <tr>\n",
       "      <td>1</td>\n",
       "      <td>DOJ sues Texas over Gov. Abbott’s order for la...</td>\n",
       "      <td>85</td>\n",
       "      <td>ouwc9i</td>\n",
       "      <td>https://www.kxan.com/news/texas-politics/doj-s...</td>\n",
       "      <td>17</td>\n",
       "      <td>1.627688e+09</td>\n",
       "      <td>NaN</td>\n",
       "      <td>2021-07-31 02:26:12</td>\n",
       "    </tr>\n",
       "    <tr>\n",
       "      <td>2</td>\n",
       "      <td>From white evangelicals to QAnon believers, wh...</td>\n",
       "      <td>57</td>\n",
       "      <td>ouqkxi</td>\n",
       "      <td>https://www.modbee.com/news/coronavirus/articl...</td>\n",
       "      <td>27</td>\n",
       "      <td>1.627671e+09</td>\n",
       "      <td>NaN</td>\n",
       "      <td>2021-07-30 21:45:09</td>\n",
       "    </tr>\n",
       "    <tr>\n",
       "      <td>3</td>\n",
       "      <td>DeSantis says he’ll sign order allowing parent...</td>\n",
       "      <td>269</td>\n",
       "      <td>oun2lc</td>\n",
       "      <td>https://www.orlandosentinel.com/politics/os-ne...</td>\n",
       "      <td>138</td>\n",
       "      <td>1.627660e+09</td>\n",
       "      <td>NaN</td>\n",
       "      <td>2021-07-30 18:43:05</td>\n",
       "    </tr>\n",
       "    <tr>\n",
       "      <td>4</td>\n",
       "      <td>Show on the road: In Utah, Florida Gov. Ron De...</td>\n",
       "      <td>31</td>\n",
       "      <td>ouipnz</td>\n",
       "      <td>https://www.tallahassee.com/story/news/politic...</td>\n",
       "      <td>28</td>\n",
       "      <td>1.627644e+09</td>\n",
       "      <td>NaN</td>\n",
       "      <td>2021-07-30 14:21:54</td>\n",
       "    </tr>\n",
       "  </tbody>\n",
       "</table>\n",
       "</div>"
      ],
      "text/plain": [
       "                                               title  score      id  \\\n",
       "0  A Right Wing Group in Texas Is Making up Fake ...    166  ov1ll3   \n",
       "1  DOJ sues Texas over Gov. Abbott’s order for la...     85  ouwc9i   \n",
       "2  From white evangelicals to QAnon believers, wh...     57  ouqkxi   \n",
       "3  DeSantis says he’ll sign order allowing parent...    269  oun2lc   \n",
       "4  Show on the road: In Utah, Florida Gov. Ron De...     31  ouipnz   \n",
       "\n",
       "                                                 url  comms_num       created  \\\n",
       "0  https://www.vice.com/en/article/wx5bg5/blm-whi...         34  1.627710e+09   \n",
       "1  https://www.kxan.com/news/texas-politics/doj-s...         17  1.627688e+09   \n",
       "2  https://www.modbee.com/news/coronavirus/articl...         27  1.627671e+09   \n",
       "3  https://www.orlandosentinel.com/politics/os-ne...        138  1.627660e+09   \n",
       "4  https://www.tallahassee.com/story/news/politic...         28  1.627644e+09   \n",
       "\n",
       "  body            timestamp  \n",
       "0  NaN  2021-07-31 08:35:47  \n",
       "1  NaN  2021-07-31 02:26:12  \n",
       "2  NaN  2021-07-30 21:45:09  \n",
       "3  NaN  2021-07-30 18:43:05  \n",
       "4  NaN  2021-07-30 14:21:54  "
      ]
     },
     "execution_count": 22,
     "metadata": {},
     "output_type": "execute_result"
    }
   ],
   "source": [
    "politics_dataset.head()"
   ]
  },
  {
   "cell_type": "code",
   "execution_count": 23,
   "metadata": {},
   "outputs": [],
   "source": [
    "politics_headline = list(politics_dataset[\"title\"].values)"
   ]
  },
  {
   "cell_type": "code",
   "execution_count": 24,
   "metadata": {},
   "outputs": [
    {
     "data": {
      "text/plain": [
       "['A Right Wing Group in Texas Is Making up Fake Black Lives Matter Campaigns',\n",
       " 'DOJ sues Texas over Gov. Abbott’s order for law enforcement to pull over vehicles with migrants',\n",
       " 'From white evangelicals to QAnon believers, who’s most likely to refuse COVID vaccine?',\n",
       " 'DeSantis says he’ll sign order allowing parents to ignore COVID-19 school mask mandates',\n",
       " \"Show on the road: In Utah, Florida Gov. Ron DeSantis rails against 'Faucian dystopia'\",\n",
       " 'Michigan Supreme Court limits use of restraints on juveniles',\n",
       " \"'Election integrity committee' in York County accused of voter intimidation\",\n",
       " 'Texas Senator Used MLK’s Words To Attack Critical Race Theory. MLK III Says His Father’s Work Supports It',\n",
       " \"Wisconsin GOP leader doesn't want another election probe\",\n",
       " 'Democrats press Biden to extend eviction ban']"
      ]
     },
     "execution_count": 24,
     "metadata": {},
     "output_type": "execute_result"
    }
   ],
   "source": [
    "politics_headline[:10]"
   ]
  },
  {
   "cell_type": "code",
   "execution_count": 25,
   "metadata": {},
   "outputs": [
    {
     "data": {
      "text/plain": [
       "28063"
      ]
     },
     "execution_count": 25,
     "metadata": {},
     "output_type": "execute_result"
    }
   ],
   "source": [
    "len(politics_headline)"
   ]
  },
  {
   "cell_type": "markdown",
   "metadata": {},
   "source": [
    "### for sports class"
   ]
  },
  {
   "cell_type": "code",
   "execution_count": 2,
   "metadata": {},
   "outputs": [],
   "source": [
    "import tweepy                   # Python wrapper around Twitter API\n",
    "import json\n",
    "import csv\n",
    "from datetime import date\n",
    "from datetime import datetime ,timedelta\n",
    "import time\n",
    "import pytz"
   ]
  },
  {
   "cell_type": "code",
   "execution_count": 3,
   "metadata": {},
   "outputs": [],
   "source": [
    "api_key = \"xKzBSzByetuK26U0gJJc5gndZ\"\n",
    "api_secret_key = \"Fe02roTRDoQAHzqnDbh32nZ0mA2sq3tY3RdOr7AEIq3rXbDleD\"\n",
    "access_token = \"1451120762983751682-L1JBPrsf3JubMJalu4EDesoxIOi6xs\"\n",
    "access_token_secret = \"ynBdfv0cpxsTvBsP0pyt2RxeSL5PTBYh37zU7NcEEcOGD\"\n",
    "\n",
    "\n",
    "\n",
    "auth = tweepy.OAuthHandler(api_key, api_secret_key)\n",
    "auth.set_access_token(access_token, access_token_secret)\n",
    "api = tweepy.API(auth)"
   ]
  },
  {
   "cell_type": "code",
   "execution_count": 15,
   "metadata": {},
   "outputs": [],
   "source": [
    "def get_latest_tweets(screen_name):\n",
    "    alltweets = []\n",
    "    new_tweets = api.user_timeline(screen_name = screen_name,count=200)\n",
    "    alltweets.extend(new_tweets)\n",
    "    oldest = alltweets[-1].id - 1\n",
    "    \n",
    "    while( (len(new_tweets) > 0) or (len(alltweets)<1000) ):\n",
    "        new_tweets = api.user_timeline(screen_name = screen_name,count=200,max_id=oldest)\n",
    "        alltweets.extend(new_tweets)\n",
    "        oldest = alltweets[-1].id - 1\n",
    "    tweets = [t.text for t in alltweets] \n",
    "    return tweets"
   ]
  },
  {
   "cell_type": "code",
   "execution_count": 16,
   "metadata": {},
   "outputs": [],
   "source": [
    "accountList=[\n",
    "    \"SportsCenter\",\n",
    "    \"NFL\",\n",
    "    \"espn\",\n",
    "    \"NBA\",\n",
    "]"
   ]
  },
  {
   "cell_type": "code",
   "execution_count": 17,
   "metadata": {},
   "outputs": [],
   "source": [
    "SportTweets=[]\n",
    "for account in accountList:\n",
    "    SportTweets.extend(get_latest_tweets(account))"
   ]
  },
  {
   "cell_type": "code",
   "execution_count": 18,
   "metadata": {},
   "outputs": [
    {
     "data": {
      "text/plain": [
       "['RT @OTLonESPN: Enshrine or Decline?\\n\\nIs Barry Bonds a Hall of Famer? https://t.co/MjH1nubftJ',\n",
       " \"Breaking: Sean Payton has decided to step away as the Saints' coach after 16 years, a source confirmed to… https://t.co/GZqwQuvnJh\",\n",
       " '\"SEND IT IN, JEROME!\"\\n\\n34 years ago today, Jerome Lane shattered the backboard while playing for Pitt 🤯 https://t.co/XycbUnZylF',\n",
       " 'RT @AdamSchefter: Bears are finalizing a deal to hire Chiefs’ Assistant Director of Player Personnel Ryan Poles as their next general manag…',\n",
       " 'While @CooperKupp was in college, his wife Anna supported them monetarily by working full-time so he could focus on… https://t.co/uLkzqBNaUf',\n",
       " \"Two years ago today, @KingJames passed Kobe on the NBA's all-time scoring list 💜💛 https://t.co/XSmcm9Sj3M\",\n",
       " 'A CAREER HIGH FOR THE PLAYER OF THE YEAR CANDIDATE 🔥\\n\\n🌟 37 PTS\\n🌟 7-12 3-PT FG\\n\\n@KUHoops takes down No. 13 Texas Tec… https://t.co/6KxgDI5eLQ',\n",
       " 'Matthew Tkachuk is the first player this season with five assists in one game and the Flames torch the Blues 🔥 https://t.co/NpyDpbP428',\n",
       " 'CP3 with the filthy no-look dime 😮 https://t.co/ZOa1xnbVIi',\n",
       " \"Darius Garland is carving his way into Cavs' history 🔥\\n\\n(via @ESPNStatsInfo) https://t.co/i9nXlaCrj0\"]"
      ]
     },
     "execution_count": 18,
     "metadata": {},
     "output_type": "execute_result"
    }
   ],
   "source": [
    "SportTweets[0:10]"
   ]
  },
  {
   "cell_type": "code",
   "execution_count": 19,
   "metadata": {},
   "outputs": [
    {
     "data": {
      "text/plain": [
       "13000"
      ]
     },
     "execution_count": 19,
     "metadata": {},
     "output_type": "execute_result"
    }
   ],
   "source": [
    "len(SportTweets)"
   ]
  },
  {
   "cell_type": "markdown",
   "metadata": {},
   "source": [
    "clean"
   ]
  },
  {
   "cell_type": "code",
   "execution_count": 47,
   "metadata": {},
   "outputs": [
    {
     "data": {
      "text/plain": [
       "['RT  OTLonESPN  Enshrine or Decline   Is Barry Bonds a Hall of Famer  ',\n",
       " 'Breaking  Sean Payton has decided to step away as the Saints  coach after 16 years  a source confirmed to  ',\n",
       " ' SEND IT IN  JEROME    34 years ago today  Jerome Lane shattered the backboard while playing for Pitt   ',\n",
       " 'RT  AdamSchefter  Bears are finalizing a deal to hire Chiefs  Assistant Director of Player Personnel Ryan Poles as their next general manag ',\n",
       " 'While  CooperKupp was in college  his wife Anna supported them monetarily by working full time so he could focus on  ']"
      ]
     },
     "execution_count": 47,
     "metadata": {},
     "output_type": "execute_result"
    }
   ],
   "source": [
    "for i in range(0,len(SportTweets)):\n",
    "    SportTweets[i]=SportTweets[i].split(\"https:\")[0]\n",
    "    SportTweets[i]=re.sub(r'[^\\w]', ' ',SportTweets[i])\n",
    "SportTweets[:5]"
   ]
  },
  {
   "cell_type": "markdown",
   "metadata": {},
   "source": [
    "### for tech class"
   ]
  },
  {
   "cell_type": "code",
   "execution_count": 26,
   "metadata": {},
   "outputs": [],
   "source": [
    "import requests\n",
    "\n",
    "URL = \"https://gadgets.ndtv.com/news\"\n",
    "page = requests.get(URL)"
   ]
  },
  {
   "cell_type": "code",
   "execution_count": 27,
   "metadata": {},
   "outputs": [
    {
     "name": "stdout",
     "output_type": "stream",
     "text": [
      "20\n"
     ]
    }
   ],
   "source": [
    "from bs4 import BeautifulSoup\n",
    "\n",
    "soup = BeautifulSoup(page.content, \"html.parser\")\n",
    "results = soup.find(id=\"ResultsContainer\")\n",
    "tech_phrases = soup.find_all(\"div\",class_ =\"caption_box\")\n",
    "\n",
    "print(len(tech_phrases))"
   ]
  },
  {
   "cell_type": "code",
   "execution_count": 29,
   "metadata": {},
   "outputs": [
    {
     "name": "stdout",
     "output_type": "stream",
     "text": [
      "240\n"
     ]
    }
   ],
   "source": [
    "for i in range(2,9):\n",
    "    URL = \"https://gadgets.ndtv.com/news/page-\" + str(i) \n",
    "    page = requests.get(URL)\n",
    "    soup = BeautifulSoup(page.content, \"html.parser\")\n",
    "    results = soup.find(id=\"ResultsContainer\")\n",
    "    new_tech_phrases = soup.find_all(\"div\",class_ =\"caption_box\")\n",
    "    tech_phrases.extend(new_tech_phrases)\n",
    "print(len(tech_phrases))"
   ]
  },
  {
   "cell_type": "code",
   "execution_count": 32,
   "metadata": {},
   "outputs": [],
   "source": [
    "for i in range(0,2):\n",
    "    tech_phrases.extend(tech_phrases)"
   ]
  },
  {
   "cell_type": "code",
   "execution_count": 33,
   "metadata": {},
   "outputs": [
    {
     "name": "stdout",
     "output_type": "stream",
     "text": [
      "15360\n"
     ]
    }
   ],
   "source": [
    "print(len(tech_phrases))"
   ]
  },
  {
   "cell_type": "code",
   "execution_count": 34,
   "metadata": {},
   "outputs": [
    {
     "name": "stdout",
     "output_type": "stream",
     "text": [
      "<div class=\"caption_box\"> <a href=\"https://gadgets.ndtv.com/apps/news/whatsapp-ios-update-22-5-75-pause-resume-voice-message-recordings-focus-mode-profile-photo-2729441\"> <span class=\"news_listing\">WhatsApp for iOS Gets Ability to Pause Voice Message Recording, New Focus Mode</span> </a> <div class=\"dateline\">by Jagmeet Singh, 25 January 2022</div> <a class=\"catname\" href=\"https://gadgets.ndtv.com/apps\">Apps</a> </div>\n"
     ]
    }
   ],
   "source": [
    "print(tech_phrases[0])"
   ]
  },
  {
   "cell_type": "code",
   "execution_count": 37,
   "metadata": {},
   "outputs": [
    {
     "name": "stdout",
     "output_type": "stream",
     "text": [
      "15360\n"
     ]
    }
   ],
   "source": [
    "tech_texts = []\n",
    "for s in tech_phrases:\n",
    "    text = s.find(\"span\").text\n",
    "    tech_texts.append(text)\n",
    "print(len(tech_texts))"
   ]
  },
  {
   "cell_type": "markdown",
   "metadata": {},
   "source": [
    "### other"
   ]
  },
  {
   "cell_type": "code",
   "execution_count": 56,
   "metadata": {},
   "outputs": [],
   "source": [
    "file = open(\"characterGenData-Copy1.txt\",encoding = \"utf-8\").read()"
   ]
  },
  {
   "cell_type": "code",
   "execution_count": 57,
   "metadata": {},
   "outputs": [],
   "source": [
    "batchs = len(file) // 100"
   ]
  },
  {
   "cell_type": "code",
   "execution_count": 64,
   "metadata": {},
   "outputs": [],
   "source": [
    "texts = []\n",
    "for i in range(0,batchs):\n",
    "    texts.append(file[i*100:(i+1)*100])\n",
    "    "
   ]
  },
  {
   "cell_type": "code",
   "execution_count": 65,
   "metadata": {},
   "outputs": [],
   "source": [
    "for i in range(0,4):\n",
    "    texts.extend(texts)"
   ]
  },
  {
   "cell_type": "code",
   "execution_count": 66,
   "metadata": {},
   "outputs": [
    {
     "data": {
      "text/plain": [
       "27952"
      ]
     },
     "execution_count": 66,
     "metadata": {},
     "output_type": "execute_result"
    }
   ],
   "source": [
    "len(texts)"
   ]
  },
  {
   "cell_type": "markdown",
   "metadata": {},
   "source": [
    "# Create DataSet"
   ]
  },
  {
   "cell_type": "code",
   "execution_count": 73,
   "metadata": {},
   "outputs": [],
   "source": [
    "column_names =['text','category']"
   ]
  },
  {
   "cell_type": "code",
   "execution_count": 81,
   "metadata": {},
   "outputs": [],
   "source": [
    "df=pd.DataFrame()"
   ]
  },
  {
   "cell_type": "code",
   "execution_count": 82,
   "metadata": {},
   "outputs": [],
   "source": [
    "df['text']=politics_headline"
   ]
  },
  {
   "cell_type": "code",
   "execution_count": 83,
   "metadata": {},
   "outputs": [],
   "source": [
    "c=['politics']*(len(politics_headline))"
   ]
  },
  {
   "cell_type": "code",
   "execution_count": 84,
   "metadata": {},
   "outputs": [],
   "source": [
    "df['category']=c"
   ]
  },
  {
   "cell_type": "code",
   "execution_count": 85,
   "metadata": {},
   "outputs": [
    {
     "data": {
      "text/html": [
       "<div>\n",
       "<style scoped>\n",
       "    .dataframe tbody tr th:only-of-type {\n",
       "        vertical-align: middle;\n",
       "    }\n",
       "\n",
       "    .dataframe tbody tr th {\n",
       "        vertical-align: top;\n",
       "    }\n",
       "\n",
       "    .dataframe thead th {\n",
       "        text-align: right;\n",
       "    }\n",
       "</style>\n",
       "<table border=\"1\" class=\"dataframe\">\n",
       "  <thead>\n",
       "    <tr style=\"text-align: right;\">\n",
       "      <th></th>\n",
       "      <th>text</th>\n",
       "      <th>category</th>\n",
       "    </tr>\n",
       "  </thead>\n",
       "  <tbody>\n",
       "    <tr>\n",
       "      <td>0</td>\n",
       "      <td>A Right Wing Group in Texas Is Making up Fake ...</td>\n",
       "      <td>politics</td>\n",
       "    </tr>\n",
       "    <tr>\n",
       "      <td>1</td>\n",
       "      <td>DOJ sues Texas over Gov. Abbott’s order for la...</td>\n",
       "      <td>politics</td>\n",
       "    </tr>\n",
       "    <tr>\n",
       "      <td>2</td>\n",
       "      <td>From white evangelicals to QAnon believers, wh...</td>\n",
       "      <td>politics</td>\n",
       "    </tr>\n",
       "    <tr>\n",
       "      <td>3</td>\n",
       "      <td>DeSantis says he’ll sign order allowing parent...</td>\n",
       "      <td>politics</td>\n",
       "    </tr>\n",
       "    <tr>\n",
       "      <td>4</td>\n",
       "      <td>Show on the road: In Utah, Florida Gov. Ron De...</td>\n",
       "      <td>politics</td>\n",
       "    </tr>\n",
       "  </tbody>\n",
       "</table>\n",
       "</div>"
      ],
      "text/plain": [
       "                                                text  category\n",
       "0  A Right Wing Group in Texas Is Making up Fake ...  politics\n",
       "1  DOJ sues Texas over Gov. Abbott’s order for la...  politics\n",
       "2  From white evangelicals to QAnon believers, wh...  politics\n",
       "3  DeSantis says he’ll sign order allowing parent...  politics\n",
       "4  Show on the road: In Utah, Florida Gov. Ron De...  politics"
      ]
     },
     "execution_count": 85,
     "metadata": {},
     "output_type": "execute_result"
    }
   ],
   "source": [
    "df.head()"
   ]
  },
  {
   "cell_type": "code",
   "execution_count": 88,
   "metadata": {},
   "outputs": [],
   "source": [
    "df2=pd.DataFrame()\n",
    "df2['text']=texts\n",
    "c=['other']*(len(texts))\n",
    "df2['category']=c\n",
    "df = df.append(df2, ignore_index = True)"
   ]
  },
  {
   "cell_type": "code",
   "execution_count": 90,
   "metadata": {},
   "outputs": [
    {
     "data": {
      "text/plain": [
       "politics    28063\n",
       "other       27952\n",
       "tech        15360\n",
       "sports      13000\n",
       "Name: category, dtype: int64"
      ]
     },
     "execution_count": 90,
     "metadata": {},
     "output_type": "execute_result"
    }
   ],
   "source": [
    "df['category'].value_counts()"
   ]
  },
  {
   "cell_type": "code",
   "execution_count": 94,
   "metadata": {},
   "outputs": [
    {
     "data": {
      "text/plain": [
       "Index(['politics', 'other', 'tech', 'sports'], dtype='object')"
      ]
     },
     "execution_count": 94,
     "metadata": {},
     "output_type": "execute_result"
    }
   ],
   "source": [
    "df['category'].value_counts().keys()"
   ]
  },
  {
   "cell_type": "code",
   "execution_count": 91,
   "metadata": {},
   "outputs": [],
   "source": [
    "import matplotlib.pyplot as plt"
   ]
  },
  {
   "cell_type": "code",
   "execution_count": 96,
   "metadata": {},
   "outputs": [
    {
     "data": {
      "text/plain": [
       "([<matplotlib.patches.Wedge at 0x220b99d6948>,\n",
       "  <matplotlib.patches.Wedge at 0x220b99d6e08>,\n",
       "  <matplotlib.patches.Wedge at 0x220b99b4408>,\n",
       "  <matplotlib.patches.Wedge at 0x220b99b4488>],\n",
       " [Text(0.5521976967195213, 0.9513557188232253, 'politics'),\n",
       "  Text(-1.0999327416400826, 0.012164039959290494, 'other'),\n",
       "  Text(0.03388660643998256, -1.0994779206077683, 'tech'),\n",
       "  Text(0.9736353479602047, -0.511892771195698, 'sports')])"
      ]
     },
     "execution_count": 96,
     "metadata": {},
     "output_type": "execute_result"
    },
    {
     "data": {
      "image/png": "[encoded data removed]",
      "text/plain": [
       "<Figure size 432x288 with 1 Axes>"
      ]
     },
     "metadata": {},
     "output_type": "display_data"
    }
   ],
   "source": [
    "plt.pie(df['category'].value_counts(),labels=df['category'].value_counts().keys())"
   ]
  },
  {
   "cell_type": "markdown",
   "metadata": {},
   "source": [
    "# prepare data"
   ]
  },
  {
   "cell_type": "code",
   "execution_count": 98,
   "metadata": {},
   "outputs": [
    {
     "name": "stderr",
     "output_type": "stream",
     "text": [
      "C:\\Users\\newgh\\Anaconda3\\lib\\site-packages\\sklearn\\feature_extraction\\image.py:167: DeprecationWarning: `np.int` is a deprecated alias for the builtin `int`. To silence this warning, use `int` by itself. Doing this will not modify any behavior and is safe. When replacing `np.int`, you may wish to use e.g. `np.int64` or `np.int32` to specify the precision. If you wish to review your current use, check the release note link for additional information.\n",
      "Deprecated in NumPy 1.20; for more details and guidance: https://numpy.org/devdocs/release/1.20.0-notes.html#deprecations\n",
      "  dtype=np.int):\n",
      "C:\\Users\\newgh\\Anaconda3\\lib\\site-packages\\sklearn\\linear_model\\least_angle.py:30: DeprecationWarning: `np.float` is a deprecated alias for the builtin `float`. To silence this warning, use `float` by itself. Doing this will not modify any behavior and is safe. If you specifically wanted the numpy scalar type, use `np.float64` here.\n",
      "Deprecated in NumPy 1.20; for more details and guidance: https://numpy.org/devdocs/release/1.20.0-notes.html#deprecations\n",
      "  method='lar', copy_X=True, eps=np.finfo(np.float).eps,\n",
      "C:\\Users\\newgh\\Anaconda3\\lib\\site-packages\\sklearn\\linear_model\\least_angle.py:167: DeprecationWarning: `np.float` is a deprecated alias for the builtin `float`. To silence this warning, use `float` by itself. Doing this will not modify any behavior and is safe. If you specifically wanted the numpy scalar type, use `np.float64` here.\n",
      "Deprecated in NumPy 1.20; for more details and guidance: https://numpy.org/devdocs/release/1.20.0-notes.html#deprecations\n",
      "  method='lar', copy_X=True, eps=np.finfo(np.float).eps,\n",
      "C:\\Users\\newgh\\Anaconda3\\lib\\site-packages\\sklearn\\linear_model\\least_angle.py:284: DeprecationWarning: `np.float` is a deprecated alias for the builtin `float`. To silence this warning, use `float` by itself. Doing this will not modify any behavior and is safe. If you specifically wanted the numpy scalar type, use `np.float64` here.\n",
      "Deprecated in NumPy 1.20; for more details and guidance: https://numpy.org/devdocs/release/1.20.0-notes.html#deprecations\n",
      "  eps=np.finfo(np.float).eps, copy_Gram=True, verbose=0,\n",
      "C:\\Users\\newgh\\Anaconda3\\lib\\site-packages\\sklearn\\linear_model\\least_angle.py:862: DeprecationWarning: `np.float` is a deprecated alias for the builtin `float`. To silence this warning, use `float` by itself. Doing this will not modify any behavior and is safe. If you specifically wanted the numpy scalar type, use `np.float64` here.\n",
      "Deprecated in NumPy 1.20; for more details and guidance: https://numpy.org/devdocs/release/1.20.0-notes.html#deprecations\n",
      "  eps=np.finfo(np.float).eps, copy_X=True, fit_path=True,\n",
      "C:\\Users\\newgh\\Anaconda3\\lib\\site-packages\\sklearn\\linear_model\\least_angle.py:1101: DeprecationWarning: `np.float` is a deprecated alias for the builtin `float`. To silence this warning, use `float` by itself. Doing this will not modify any behavior and is safe. If you specifically wanted the numpy scalar type, use `np.float64` here.\n",
      "Deprecated in NumPy 1.20; for more details and guidance: https://numpy.org/devdocs/release/1.20.0-notes.html#deprecations\n",
      "  eps=np.finfo(np.float).eps, copy_X=True, fit_path=True,\n",
      "C:\\Users\\newgh\\Anaconda3\\lib\\site-packages\\sklearn\\linear_model\\least_angle.py:1127: DeprecationWarning: `np.float` is a deprecated alias for the builtin `float`. To silence this warning, use `float` by itself. Doing this will not modify any behavior and is safe. If you specifically wanted the numpy scalar type, use `np.float64` here.\n",
      "Deprecated in NumPy 1.20; for more details and guidance: https://numpy.org/devdocs/release/1.20.0-notes.html#deprecations\n",
      "  eps=np.finfo(np.float).eps, positive=False):\n",
      "C:\\Users\\newgh\\Anaconda3\\lib\\site-packages\\sklearn\\linear_model\\least_angle.py:1362: DeprecationWarning: `np.float` is a deprecated alias for the builtin `float`. To silence this warning, use `float` by itself. Doing this will not modify any behavior and is safe. If you specifically wanted the numpy scalar type, use `np.float64` here.\n",
      "Deprecated in NumPy 1.20; for more details and guidance: https://numpy.org/devdocs/release/1.20.0-notes.html#deprecations\n",
      "  max_n_alphas=1000, n_jobs=None, eps=np.finfo(np.float).eps,\n",
      "C:\\Users\\newgh\\Anaconda3\\lib\\site-packages\\sklearn\\linear_model\\least_angle.py:1602: DeprecationWarning: `np.float` is a deprecated alias for the builtin `float`. To silence this warning, use `float` by itself. Doing this will not modify any behavior and is safe. If you specifically wanted the numpy scalar type, use `np.float64` here.\n",
      "Deprecated in NumPy 1.20; for more details and guidance: https://numpy.org/devdocs/release/1.20.0-notes.html#deprecations\n",
      "  max_n_alphas=1000, n_jobs=None, eps=np.finfo(np.float).eps,\n",
      "C:\\Users\\newgh\\Anaconda3\\lib\\site-packages\\sklearn\\linear_model\\least_angle.py:1738: DeprecationWarning: `np.float` is a deprecated alias for the builtin `float`. To silence this warning, use `float` by itself. Doing this will not modify any behavior and is safe. If you specifically wanted the numpy scalar type, use `np.float64` here.\n",
      "Deprecated in NumPy 1.20; for more details and guidance: https://numpy.org/devdocs/release/1.20.0-notes.html#deprecations\n",
      "  eps=np.finfo(np.float).eps, copy_X=True, positive=False):\n"
     ]
    }
   ],
   "source": [
    "import nltk"
   ]
  },
  {
   "cell_type": "code",
   "execution_count": 97,
   "metadata": {},
   "outputs": [],
   "source": [
    "corpus = list(df.text.values)"
   ]
  },
  {
   "cell_type": "code",
   "execution_count": 114,
   "metadata": {},
   "outputs": [
    {
     "data": {
      "text/plain": [
       "22342"
      ]
     },
     "execution_count": 114,
     "metadata": {},
     "output_type": "execute_result"
    }
   ],
   "source": [
    "vocab=[]\n",
    "for doc in corpus:\n",
    "    words = nltk.word_tokenize(doc)\n",
    "    vocab.extend([w.lower() for w in words if len(w)>3])\n",
    "vocab = list(set(vocab))\n",
    "len(vocab)"
   ]
  },
  {
   "cell_type": "code",
   "execution_count": 115,
   "metadata": {},
   "outputs": [],
   "source": [
    "vocab.append(\"PADword\")"
   ]
  },
  {
   "cell_type": "code",
   "execution_count": 116,
   "metadata": {},
   "outputs": [],
   "source": [
    "largest_sen = max([len(nltk.word_tokenize(doc)) for doc in corpus])"
   ]
  },
  {
   "cell_type": "code",
   "execution_count": 117,
   "metadata": {},
   "outputs": [
    {
     "data": {
      "text/plain": [
       "68"
      ]
     },
     "execution_count": 117,
     "metadata": {},
     "output_type": "execute_result"
    }
   ],
   "source": [
    "largest_sen"
   ]
  },
  {
   "cell_type": "code",
   "execution_count": 118,
   "metadata": {},
   "outputs": [],
   "source": [
    "categories = df['category'].unique()"
   ]
  },
  {
   "cell_type": "code",
   "execution_count": 126,
   "metadata": {},
   "outputs": [],
   "source": [
    "max_len = 50\n",
    "word2idx = {w: i for i, w in enumerate(vocab)}\n",
    "tag2idx = {t: i for i, t in enumerate(categories)}"
   ]
  },
  {
   "cell_type": "code",
   "execution_count": 127,
   "metadata": {},
   "outputs": [
    {
     "data": {
      "text/plain": [
       "{'politics': 0, 'sports': 1, 'tech': 2, 'other': 3}"
      ]
     },
     "execution_count": 127,
     "metadata": {},
     "output_type": "execute_result"
    }
   ],
   "source": [
    "tag2idx"
   ]
  },
  {
   "cell_type": "code",
   "execution_count": 128,
   "metadata": {},
   "outputs": [
    {
     "data": {
      "text/plain": [
       "'A Right Wing Group in Texas Is Making up Fake Black Lives Matter Campaigns'"
      ]
     },
     "execution_count": 128,
     "metadata": {},
     "output_type": "execute_result"
    }
   ],
   "source": [
    "corpus[0]"
   ]
  },
  {
   "cell_type": "code",
   "execution_count": 130,
   "metadata": {},
   "outputs": [
    {
     "data": {
      "text/plain": [
       "10686"
      ]
     },
     "execution_count": 130,
     "metadata": {},
     "output_type": "execute_result"
    }
   ],
   "source": [
    "word2idx[\"right\"]"
   ]
  },
  {
   "cell_type": "code",
   "execution_count": 133,
   "metadata": {},
   "outputs": [],
   "source": [
    "from sklearn.utils import shuffle\n",
    "df = shuffle(df)"
   ]
  },
  {
   "cell_type": "code",
   "execution_count": 135,
   "metadata": {},
   "outputs": [
    {
     "data": {
      "text/html": [
       "<div>\n",
       "<style scoped>\n",
       "    .dataframe tbody tr th:only-of-type {\n",
       "        vertical-align: middle;\n",
       "    }\n",
       "\n",
       "    .dataframe tbody tr th {\n",
       "        vertical-align: top;\n",
       "    }\n",
       "\n",
       "    .dataframe thead th {\n",
       "        text-align: right;\n",
       "    }\n",
       "</style>\n",
       "<table border=\"1\" class=\"dataframe\">\n",
       "  <thead>\n",
       "    <tr style=\"text-align: right;\">\n",
       "      <th></th>\n",
       "      <th>text</th>\n",
       "      <th>category</th>\n",
       "    </tr>\n",
       "  </thead>\n",
       "  <tbody>\n",
       "    <tr>\n",
       "      <td>63774</td>\n",
       "      <td>aresses and\\nmy father’s smile of benevolent p...</td>\n",
       "      <td>other</td>\n",
       "    </tr>\n",
       "    <tr>\n",
       "      <td>12247</td>\n",
       "      <td>Comment</td>\n",
       "      <td>politics</td>\n",
       "    </tr>\n",
       "    <tr>\n",
       "      <td>78465</td>\n",
       "      <td>the oriental languages, and thus he should op...</td>\n",
       "      <td>other</td>\n",
       "    </tr>\n",
       "    <tr>\n",
       "      <td>20374</td>\n",
       "      <td>Comment</td>\n",
       "      <td>politics</td>\n",
       "    </tr>\n",
       "    <tr>\n",
       "      <td>38852</td>\n",
       "      <td>2nd game back   Klay getting to the hoop on  N...</td>\n",
       "      <td>sports</td>\n",
       "    </tr>\n",
       "  </tbody>\n",
       "</table>\n",
       "</div>"
      ],
      "text/plain": [
       "                                                    text  category\n",
       "63774  aresses and\\nmy father’s smile of benevolent p...     other\n",
       "12247                                            Comment  politics\n",
       "78465   the oriental languages, and thus he should op...     other\n",
       "20374                                            Comment  politics\n",
       "38852  2nd game back   Klay getting to the hoop on  N...    sports"
      ]
     },
     "execution_count": 135,
     "metadata": {},
     "output_type": "execute_result"
    }
   ],
   "source": [
    "df.head()"
   ]
  },
  {
   "cell_type": "code",
   "execution_count": 134,
   "metadata": {},
   "outputs": [],
   "source": [
    "corpus = list(df.text.values)"
   ]
  },
  {
   "cell_type": "code",
   "execution_count": 138,
   "metadata": {},
   "outputs": [
    {
     "data": {
      "text/plain": [
       "84375"
      ]
     },
     "execution_count": 138,
     "metadata": {},
     "output_type": "execute_result"
    }
   ],
   "source": [
    "len(corpus)"
   ]
  },
  {
   "cell_type": "code",
   "execution_count": 137,
   "metadata": {},
   "outputs": [
    {
     "name": "stdout",
     "output_type": "stream",
     "text": [
      "84375\n"
     ]
    }
   ],
   "source": [
    "sentences = []\n",
    "for doc in corpus:\n",
    "    words = nltk.word_tokenize(doc)\n",
    "    sentence = [w.lower() for w in words if w.lower() in vocab]\n",
    "    sentences.append(sentence)\n",
    "print(len(sentences))"
   ]
  },
  {
   "cell_type": "code",
   "execution_count": 139,
   "metadata": {},
   "outputs": [
    {
     "name": "stdout",
     "output_type": "stream",
     "text": [
      "aresses and\n",
      "my father’s smile of benevolent pleasure while regarding me are my\n",
      "first recollections.  ['aresses', 'father', 'smile', 'benevolent', 'pleasure', 'while', 'regarding', 'first', 'recollections']\n"
     ]
    }
   ],
   "source": [
    "print(corpus[0],sentences[0])"
   ]
  },
  {
   "cell_type": "code",
   "execution_count": 143,
   "metadata": {},
   "outputs": [],
   "source": [
    "n_words = len(vocab)"
   ]
  },
  {
   "cell_type": "code",
   "execution_count": 146,
   "metadata": {},
   "outputs": [],
   "source": [
    "from keras.preprocessing.sequence import pad_sequences\n",
    "X = [[word2idx[w]for w in s] for s in sentences]\n",
    "X = pad_sequences(maxlen=30, sequences=X, padding=\"post\", value=n_words - 1)"
   ]
  },
  {
   "cell_type": "code",
   "execution_count": 147,
   "metadata": {},
   "outputs": [
    {
     "data": {
      "text/plain": [
       "array([ 3432,  9878,  4960, 11104, 19038,  5625,  9808, 19281, 12629,\n",
       "       22342, 22342, 22342, 22342, 22342, 22342, 22342, 22342, 22342,\n",
       "       22342, 22342, 22342, 22342, 22342, 22342, 22342, 22342, 22342,\n",
       "       22342, 22342, 22342])"
      ]
     },
     "execution_count": 147,
     "metadata": {},
     "output_type": "execute_result"
    }
   ],
   "source": [
    "X[0]"
   ]
  },
  {
   "cell_type": "code",
   "execution_count": 148,
   "metadata": {},
   "outputs": [],
   "source": [
    "y = [tag2idx[c] for c in df['category'].values]"
   ]
  },
  {
   "cell_type": "code",
   "execution_count": 153,
   "metadata": {},
   "outputs": [
    {
     "data": {
      "text/plain": [
       "1"
      ]
     },
     "execution_count": 153,
     "metadata": {},
     "output_type": "execute_result"
    }
   ],
   "source": [
    "tag2idx[\"sports\"]"
   ]
  },
  {
   "cell_type": "code",
   "execution_count": 149,
   "metadata": {},
   "outputs": [
    {
     "data": {
      "text/plain": [
       "[3, 0, 3, 0, 1]"
      ]
     },
     "execution_count": 149,
     "metadata": {},
     "output_type": "execute_result"
    }
   ],
   "source": [
    "y[:5]"
   ]
  },
  {
   "cell_type": "code",
   "execution_count": 151,
   "metadata": {},
   "outputs": [],
   "source": [
    "from tensorflow.keras.utils import to_categorical\n",
    "y = [to_categorical(i, num_classes=4) for i in y]"
   ]
  },
  {
   "cell_type": "code",
   "execution_count": 152,
   "metadata": {},
   "outputs": [
    {
     "data": {
      "text/plain": [
       "[array([0., 0., 0., 1.], dtype=float32),\n",
       " array([1., 0., 0., 0.], dtype=float32),\n",
       " array([0., 0., 0., 1.], dtype=float32),\n",
       " array([1., 0., 0., 0.], dtype=float32),\n",
       " array([0., 1., 0., 0.], dtype=float32)]"
      ]
     },
     "execution_count": 152,
     "metadata": {},
     "output_type": "execute_result"
    }
   ],
   "source": [
    "y[:5]"
   ]
  },
  {
   "cell_type": "code",
   "execution_count": 169,
   "metadata": {},
   "outputs": [],
   "source": [
    "from sklearn.model_selection import train_test_split\n",
    "X_tr, X_te, y_tr, y_te = train_test_split(X, y, test_size=0.1, random_state=2018)"
   ]
  },
  {
   "cell_type": "markdown",
   "metadata": {},
   "source": [
    "# Model"
   ]
  },
  {
   "cell_type": "code",
   "execution_count": 155,
   "metadata": {},
   "outputs": [],
   "source": [
    "import tensorflow as tf"
   ]
  },
  {
   "cell_type": "code",
   "execution_count": 166,
   "metadata": {},
   "outputs": [],
   "source": [
    "import numpy as np"
   ]
  },
  {
   "cell_type": "code",
   "execution_count": 171,
   "metadata": {},
   "outputs": [],
   "source": [
    "model = tf.keras.models.Sequential([\n",
    "    tf.keras.layers.Embedding(input_dim=n_words, output_dim=50, input_length=30),\n",
    "    tf.keras.layers.LSTM(units=100, return_sequences=False, recurrent_dropout=0),\n",
    "    tf.keras.layers.Dense(4, activation=\"softmax\")\n",
    "])"
   ]
  },
  {
   "cell_type": "code",
   "execution_count": 172,
   "metadata": {},
   "outputs": [],
   "source": [
    "y = np.array(y)"
   ]
  },
  {
   "cell_type": "code",
   "execution_count": 173,
   "metadata": {},
   "outputs": [
    {
     "data": {
      "text/plain": [
       "(84375, 4)"
      ]
     },
     "execution_count": 173,
     "metadata": {},
     "output_type": "execute_result"
    }
   ],
   "source": [
    "y.shape"
   ]
  },
  {
   "cell_type": "code",
   "execution_count": 178,
   "metadata": {},
   "outputs": [],
   "source": [
    "from keras.callbacks import ModelCheckpoint"
   ]
  },
  {
   "cell_type": "code",
   "execution_count": 179,
   "metadata": {},
   "outputs": [],
   "source": [
    "filepath = \"model_weights_saved.hdf5\"\n",
    "checkpoint = ModelCheckpoint(filepath, monitor='loss', verbose=1, save_best_only=True, mode='min')\n",
    "desired_callbacks = [checkpoint]"
   ]
  },
  {
   "cell_type": "code",
   "execution_count": 181,
   "metadata": {},
   "outputs": [],
   "source": [
    "model.compile(optimizer=\"rmsprop\", loss=\"categorical_crossentropy\", metrics=tf.keras.metrics.Accuracy())"
   ]
  },
  {
   "cell_type": "code",
   "execution_count": null,
   "metadata": {},
   "outputs": [
    {
     "name": "stdout",
     "output_type": "stream",
     "text": [
      "Epoch 1/25\n",
      "2374/2374 [==============================] - ETA: 0s - loss: 6.3117e-05 - accuracy: 0.2495\n",
      "Epoch 00001: loss improved from inf to 0.00006, saving model to model_weights_saved.hdf5\n",
      "2374/2374 [==============================] - 52s 20ms/step - loss: 6.3117e-05 - accuracy: 0.2495\n",
      "Epoch 2/25\n",
      "2374/2374 [==============================] - ETA: 0s - loss: 1.1302e-09 - accuracy: 0.2500\n",
      "Epoch 00002: loss improved from 0.00006 to 0.00000, saving model to model_weights_saved.hdf5\n",
      "2374/2374 [==============================] - 51s 21ms/step - loss: 1.1302e-09 - accuracy: 0.2500\n",
      "Epoch 3/25\n",
      "2372/2374 [============================>.] - ETA: 0s - loss: 3.6593e-10 - accuracy: 0.2499 ETA: 0s - loss: 3.7046e-1\n",
      "Epoch 00003: loss improved from 0.00000 to 0.00000, saving model to model_weights_saved.hdf5\n",
      "2374/2374 [==============================] - 43s 18ms/step - loss: 3.6577e-10 - accuracy: 0.2499\n",
      "Epoch 4/25\n",
      "2371/2374 [============================>.] - ETA: 0s - loss: 1.8854e-11 - accuracy: 0.2500\n",
      "Epoch 00004: loss improved from 0.00000 to 0.00000, saving model to model_weights_saved.hdf5\n",
      "2374/2374 [==============================] - 49s 21ms/step - loss: 1.8838e-11 - accuracy: 0.2500\n",
      "Epoch 5/25\n",
      "2374/2374 [==============================] - ETA: 0s - loss: 1.2559e-11 - accuracy: 0.2500\n",
      "Epoch 00005: loss improved from 0.00000 to 0.00000, saving model to model_weights_saved.hdf5\n",
      "2374/2374 [==============================] - 48s 20ms/step - loss: 1.2559e-11 - accuracy: 0.2500\n",
      "Epoch 6/25\n",
      "2372/2374 [============================>.] - ETA: 0s - loss: 1.8846e-11 - accuracy: 0.2500\n",
      "Epoch 00006: loss did not improve from 0.00000\n",
      "2374/2374 [==============================] - 45s 19ms/step - loss: 1.8838e-11 - accuracy: 0.2500\n",
      "Epoch 7/25\n",
      "2373/2374 [============================>.] - ETA: 0s - loss: 3.1397e-12 - accuracy: 0.2500\n",
      "Epoch 00007: loss improved from 0.00000 to 0.00000, saving model to model_weights_saved.hdf5\n",
      "2374/2374 [==============================] - 41s 17ms/step - loss: 3.1397e-12 - accuracy: 0.2500\n",
      "Epoch 8/25\n",
      "2373/2374 [============================>.] - ETA: 0s - loss: 3.1397e-12 - accuracy: 0.2500\n",
      "Epoch 00008: loss did not improve from 0.00000\n",
      "2374/2374 [==============================] - 41s 17ms/step - loss: 3.1397e-12 - accuracy: 0.2500\n",
      "Epoch 9/25\n",
      " 474/2374 [====>.........................] - ETA: 33s - loss: 0.0000e+00 - accuracy: 0.2500"
     ]
    }
   ],
   "source": [
    "history = model.fit(X_tr, y_tr, batch_size=32, epochs=25, verbose=1,callbacks=desired_callbacks)"
   ]
  },
  {
   "cell_type": "code",
   "execution_count": 185,
   "metadata": {},
   "outputs": [],
   "source": [
    "import pickle"
   ]
  },
  {
   "cell_type": "code",
   "execution_count": 186,
   "metadata": {},
   "outputs": [],
   "source": [
    "file = open(\"myDict.pkl\", \"wb\")\n",
    "pickle.dump(word2idx, file)\n",
    "file.close()"
   ]
  },
  {
   "cell_type": "code",
   "execution_count": 189,
   "metadata": {},
   "outputs": [
    {
     "data": {
      "text/plain": [
       "{'politics': 0, 'sports': 1, 'tech': 2, 'other': 3}"
      ]
     },
     "execution_count": 189,
     "metadata": {},
     "output_type": "execute_result"
    }
   ],
   "source": [
    "tag2idx"
   ]
  },
  {
   "cell_type": "code",
   "execution_count": 191,
   "metadata": {},
   "outputs": [],
   "source": [
    "pred = model.predict(X_te)"
   ]
  },
  {
   "cell_type": "code",
   "execution_count": 193,
   "metadata": {},
   "outputs": [
    {
     "data": {
      "text/plain": [
       "array([1.8888820e-10, 1.2794912e-10, 1.0000000e+00, 3.7556000e-11],\n",
       "      dtype=float32)"
      ]
     },
     "execution_count": 193,
     "metadata": {},
     "output_type": "execute_result"
    }
   ],
   "source": [
    "pred[0]"
   ]
  },
  {
   "cell_type": "code",
   "execution_count": 194,
   "metadata": {},
   "outputs": [
    {
     "data": {
      "text/plain": [
       "array([0., 0., 1., 0.], dtype=float32)"
      ]
     },
     "execution_count": 194,
     "metadata": {},
     "output_type": "execute_result"
    }
   ],
   "source": [
    "y_te[0]"
   ]
  },
  {
   "cell_type": "code",
   "execution_count": 199,
   "metadata": {},
   "outputs": [
    {
     "data": {
      "text/plain": [
       "2"
      ]
     },
     "execution_count": 199,
     "metadata": {},
     "output_type": "execute_result"
    }
   ],
   "source": [
    "pred[0].argmax()"
   ]
  },
  {
   "cell_type": "code",
   "execution_count": null,
   "metadata": {},
   "outputs": [],
   "source": []
  }
 ],
 "metadata": {
  "kernelspec": {
   "display_name": "Python 3",
   "language": "python",
   "name": "python3"
  },
  "language_info": {
   "codemirror_mode": {
    "name": "ipython",
    "version": 3
   },
   "file_extension": ".py",
   "mimetype": "text/x-python",
   "name": "python",
   "nbconvert_exporter": "python",
   "pygments_lexer": "ipython3",
   "version": "3.7.4"
  }
 },
 "nbformat": 4,
 "nbformat_minor": 2
}
